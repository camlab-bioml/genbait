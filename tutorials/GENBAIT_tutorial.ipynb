{
 "cells": [
  {
   "cell_type": "markdown",
   "id": "6406f396",
   "metadata": {},
   "source": [
    "\n",
    "# GENBAIT Tutorial\n",
    "\n",
    "This notebook provides a detailed walkthrough of the GENBAIT Python package for selecting optimal baits in BioID experiments using Genetic Algorithms (GA) and various clustering metrics. We will guide you through loading BioID data, running a genetic algorithm for bait selection, and evaluating the results using different NMF-derived and non NMF-derived metrics. \n",
    "\n"
   ]
  },
  {
   "cell_type": "markdown",
   "id": "c799c897",
   "metadata": {},
   "source": [
    "## Importing required modules"
   ]
  },
  {
   "cell_type": "code",
   "execution_count": 4,
   "id": "9315d848",
   "metadata": {},
   "outputs": [],
   "source": [
    "import genbait as gb\n",
    "import warnings\n",
    "warnings.filterwarnings('ignore')\n"
   ]
  },
  {
   "cell_type": "markdown",
   "id": "f2af1f3f",
   "metadata": {},
   "source": [
    "\n",
    "## Setting Input, Output Directories, and Parameters for NMF and GA\n",
    "\n",
    "In this section, we define the input and output directories for file handling, as well as key parameters for Non-negative Matrix Factorization (NMF) and the Genetic Algorithm (GA) used in feature (bait) selection.\n",
    "\n",
    "- **input_directory**: This variable defines the path where the input files, such as the SAINT file and other data, are stored.\n",
    "- **output_directory**: This variable specifies the location where the output files will be saved after processing, including the results of the genetic algorithm and NMF computations.\n",
    "\n",
    "- **primary_baits**: A list of primary baits that can be used to filter the dataset. If set to `None`, all baits from the dataset will be used. You can uncomment this line to provide specific bait proteins.\n",
    "\n",
    "- **n_components**: Specifies the number of NMF components (latent features). This parameter controls how many underlying factors will be extracted from the BioID dataset. Typically, these components represent key biological factors.\n",
    "\n",
    "- **n_baits_to_select**: Defines the number of baits (features) to be selected by the genetic algorithm. The goal of the GA is to find an optimal subset of baits that retain the biological significance of the dataset.\n",
    "\n",
    "- **subset_range**: This is the range of the number of baits that can be selected by the genetic algorithm. It is calculated based on the `n_baits_to_select` value to ensure that the number of selected baits remains within a valid range (neither too many nor too few).\n",
    "  - Function: `calculate_subset_range`\n",
    "  - Input: `n_baits_to_select` (the desired number of baits to select).\n",
    "  - Output: A tuple representing the valid range of baits that the GA can select.\n"
   ]
  },
  {
   "cell_type": "code",
   "execution_count": 5,
   "id": "85eb1c06",
   "metadata": {},
   "outputs": [],
   "source": [
    "input_directory = 'data/input_files/'  \n",
    "output_directory = 'data/output_files/'  \n",
    "\n",
    "# primary_baits = ['Gene1', 'Gene2', 'Gene3'] \n",
    "\n",
    "n_components = 20  \n",
    "n_baits_to_select = 50  \n",
    "\n",
    "subset_range = gb.calculate_subset_range(n_baits_to_select)  "
   ]
  },
  {
   "cell_type": "markdown",
   "id": "41f16c44",
   "metadata": {},
   "source": [
    "## Loading and Normalizing the BioID Data\n",
    "\n",
    "In this step, we load and preprocess the BioID data using the `load_bioid_data` function. This function reads the SAINT file and performs preprocessing steps such as calculating average control intensities, correcting for control values, and normalizing the data.\n",
    "\n",
    "- **Function**: `load_bioid_data`\n",
    "- **Parameters**:\n",
    "  - `input_file_path`: The path to the SAINT file (located in the `input_directory`).\n",
    "  - `output_file_directory`: The directory where the processed and normalized data will be saved. The normalized DataFrame will also be stored as a CSV file for further use.\n",
    "  \n",
    "- **Process**:\n",
    "  - **Step 1**: The SAINT file is read and baits (proteins) are processed.\n",
    "  - **Step 2**: Controls are averaged, and prey spectral counts are adjusted by subtracting these control averages.\n",
    "  - **Step 3**: The data is filtered by a False Discovery Rate (FDR) threshold, pivoted to a matrix format (baits as rows, preys as columns), and normalized using MinMax scaling.\n",
    "\n",
    "- **Output**: \n",
    "  - Returns the normalized DataFrame (`df_norm`), which can be used in subsequent analyses such as feature selection and clustering.\n",
    "\n"
   ]
  },
  {
   "cell_type": "code",
   "execution_count": 6,
   "id": "e47b4a39",
   "metadata": {},
   "outputs": [],
   "source": [
    "df_norm = gb.load_bioid_data(\n",
    "    input_file_path=f'{input_directory}saint-latest.txt',\n",
    "    output_file_directory=output_directory\n",
    ")"
   ]
  },
  {
   "cell_type": "code",
   "execution_count": 7,
   "id": "2242fa58",
   "metadata": {},
   "outputs": [
    {
     "data": {
      "text/html": [
       "<div>\n",
       "<style scoped>\n",
       "    .dataframe tbody tr th:only-of-type {\n",
       "        vertical-align: middle;\n",
       "    }\n",
       "\n",
       "    .dataframe tbody tr th {\n",
       "        vertical-align: top;\n",
       "    }\n",
       "\n",
       "    .dataframe thead th {\n",
       "        text-align: right;\n",
       "    }\n",
       "</style>\n",
       "<table border=\"1\" class=\"dataframe\">\n",
       "  <thead>\n",
       "    <tr style=\"text-align: right;\">\n",
       "      <th>PreyGene</th>\n",
       "      <th>AAAS</th>\n",
       "      <th>AAK1</th>\n",
       "      <th>AAR2</th>\n",
       "      <th>AARS2</th>\n",
       "      <th>AASDH</th>\n",
       "      <th>AASS</th>\n",
       "      <th>AATF</th>\n",
       "      <th>ABCA3</th>\n",
       "      <th>ABCB1</th>\n",
       "      <th>ABCB10</th>\n",
       "      <th>...</th>\n",
       "      <th>ZNF830</th>\n",
       "      <th>ZNF850</th>\n",
       "      <th>ZNF91</th>\n",
       "      <th>ZRANB2</th>\n",
       "      <th>ZSCAN18</th>\n",
       "      <th>ZSCAN21</th>\n",
       "      <th>ZW10</th>\n",
       "      <th>ZWINT</th>\n",
       "      <th>ZYX</th>\n",
       "      <th>ZZZ3</th>\n",
       "    </tr>\n",
       "    <tr>\n",
       "      <th>Bait</th>\n",
       "      <th></th>\n",
       "      <th></th>\n",
       "      <th></th>\n",
       "      <th></th>\n",
       "      <th></th>\n",
       "      <th></th>\n",
       "      <th></th>\n",
       "      <th></th>\n",
       "      <th></th>\n",
       "      <th></th>\n",
       "      <th></th>\n",
       "      <th></th>\n",
       "      <th></th>\n",
       "      <th></th>\n",
       "      <th></th>\n",
       "      <th></th>\n",
       "      <th></th>\n",
       "      <th></th>\n",
       "      <th></th>\n",
       "      <th></th>\n",
       "      <th></th>\n",
       "    </tr>\n",
       "  </thead>\n",
       "  <tbody>\n",
       "    <tr>\n",
       "      <th>AARS2</th>\n",
       "      <td>0.0</td>\n",
       "      <td>0.000000</td>\n",
       "      <td>0.0</td>\n",
       "      <td>0.0</td>\n",
       "      <td>0.0</td>\n",
       "      <td>0.347015</td>\n",
       "      <td>0.000000</td>\n",
       "      <td>0.0</td>\n",
       "      <td>0.0</td>\n",
       "      <td>0.266667</td>\n",
       "      <td>...</td>\n",
       "      <td>0.0</td>\n",
       "      <td>0.0</td>\n",
       "      <td>0.0</td>\n",
       "      <td>0.000000</td>\n",
       "      <td>0.0</td>\n",
       "      <td>0.000000</td>\n",
       "      <td>0.0</td>\n",
       "      <td>0.0</td>\n",
       "      <td>0.000000</td>\n",
       "      <td>0.0</td>\n",
       "    </tr>\n",
       "    <tr>\n",
       "      <th>ACBD5</th>\n",
       "      <td>0.0</td>\n",
       "      <td>0.000000</td>\n",
       "      <td>0.0</td>\n",
       "      <td>0.0</td>\n",
       "      <td>0.0</td>\n",
       "      <td>0.000000</td>\n",
       "      <td>0.000000</td>\n",
       "      <td>0.0</td>\n",
       "      <td>0.0</td>\n",
       "      <td>0.000000</td>\n",
       "      <td>...</td>\n",
       "      <td>0.0</td>\n",
       "      <td>0.0</td>\n",
       "      <td>0.0</td>\n",
       "      <td>0.000000</td>\n",
       "      <td>0.0</td>\n",
       "      <td>0.000000</td>\n",
       "      <td>0.0</td>\n",
       "      <td>0.0</td>\n",
       "      <td>0.000000</td>\n",
       "      <td>0.0</td>\n",
       "    </tr>\n",
       "    <tr>\n",
       "      <th>ACTB</th>\n",
       "      <td>0.0</td>\n",
       "      <td>0.000000</td>\n",
       "      <td>0.0</td>\n",
       "      <td>0.0</td>\n",
       "      <td>0.0</td>\n",
       "      <td>0.000000</td>\n",
       "      <td>0.000000</td>\n",
       "      <td>0.0</td>\n",
       "      <td>0.0</td>\n",
       "      <td>0.000000</td>\n",
       "      <td>...</td>\n",
       "      <td>0.0</td>\n",
       "      <td>0.0</td>\n",
       "      <td>0.0</td>\n",
       "      <td>0.000000</td>\n",
       "      <td>0.0</td>\n",
       "      <td>0.000000</td>\n",
       "      <td>0.0</td>\n",
       "      <td>0.0</td>\n",
       "      <td>0.384215</td>\n",
       "      <td>0.0</td>\n",
       "    </tr>\n",
       "    <tr>\n",
       "      <th>ACTR1A</th>\n",
       "      <td>0.0</td>\n",
       "      <td>0.000000</td>\n",
       "      <td>0.0</td>\n",
       "      <td>0.0</td>\n",
       "      <td>0.0</td>\n",
       "      <td>0.000000</td>\n",
       "      <td>0.000000</td>\n",
       "      <td>0.0</td>\n",
       "      <td>0.0</td>\n",
       "      <td>0.000000</td>\n",
       "      <td>...</td>\n",
       "      <td>0.0</td>\n",
       "      <td>0.0</td>\n",
       "      <td>0.0</td>\n",
       "      <td>0.000000</td>\n",
       "      <td>0.0</td>\n",
       "      <td>0.000000</td>\n",
       "      <td>0.0</td>\n",
       "      <td>0.0</td>\n",
       "      <td>0.000000</td>\n",
       "      <td>0.0</td>\n",
       "    </tr>\n",
       "    <tr>\n",
       "      <th>ACTR2</th>\n",
       "      <td>0.0</td>\n",
       "      <td>0.000000</td>\n",
       "      <td>0.0</td>\n",
       "      <td>0.0</td>\n",
       "      <td>0.0</td>\n",
       "      <td>0.000000</td>\n",
       "      <td>0.000000</td>\n",
       "      <td>0.0</td>\n",
       "      <td>0.0</td>\n",
       "      <td>0.000000</td>\n",
       "      <td>...</td>\n",
       "      <td>0.0</td>\n",
       "      <td>0.0</td>\n",
       "      <td>0.0</td>\n",
       "      <td>0.000000</td>\n",
       "      <td>0.0</td>\n",
       "      <td>0.000000</td>\n",
       "      <td>0.0</td>\n",
       "      <td>0.0</td>\n",
       "      <td>0.000000</td>\n",
       "      <td>0.0</td>\n",
       "    </tr>\n",
       "    <tr>\n",
       "      <th>...</th>\n",
       "      <td>...</td>\n",
       "      <td>...</td>\n",
       "      <td>...</td>\n",
       "      <td>...</td>\n",
       "      <td>...</td>\n",
       "      <td>...</td>\n",
       "      <td>...</td>\n",
       "      <td>...</td>\n",
       "      <td>...</td>\n",
       "      <td>...</td>\n",
       "      <td>...</td>\n",
       "      <td>...</td>\n",
       "      <td>...</td>\n",
       "      <td>...</td>\n",
       "      <td>...</td>\n",
       "      <td>...</td>\n",
       "      <td>...</td>\n",
       "      <td>...</td>\n",
       "      <td>...</td>\n",
       "      <td>...</td>\n",
       "      <td>...</td>\n",
       "    </tr>\n",
       "    <tr>\n",
       "      <th>VCL</th>\n",
       "      <td>0.0</td>\n",
       "      <td>0.000000</td>\n",
       "      <td>0.0</td>\n",
       "      <td>0.0</td>\n",
       "      <td>0.0</td>\n",
       "      <td>0.000000</td>\n",
       "      <td>0.000000</td>\n",
       "      <td>0.0</td>\n",
       "      <td>0.0</td>\n",
       "      <td>0.000000</td>\n",
       "      <td>...</td>\n",
       "      <td>0.0</td>\n",
       "      <td>0.0</td>\n",
       "      <td>0.0</td>\n",
       "      <td>0.000000</td>\n",
       "      <td>0.0</td>\n",
       "      <td>0.000000</td>\n",
       "      <td>0.0</td>\n",
       "      <td>0.0</td>\n",
       "      <td>0.278706</td>\n",
       "      <td>0.0</td>\n",
       "    </tr>\n",
       "    <tr>\n",
       "      <th>VIM</th>\n",
       "      <td>0.0</td>\n",
       "      <td>0.123211</td>\n",
       "      <td>0.0</td>\n",
       "      <td>0.0</td>\n",
       "      <td>0.0</td>\n",
       "      <td>0.000000</td>\n",
       "      <td>0.000000</td>\n",
       "      <td>0.0</td>\n",
       "      <td>0.0</td>\n",
       "      <td>0.000000</td>\n",
       "      <td>...</td>\n",
       "      <td>0.0</td>\n",
       "      <td>0.0</td>\n",
       "      <td>0.0</td>\n",
       "      <td>0.000000</td>\n",
       "      <td>0.0</td>\n",
       "      <td>0.000000</td>\n",
       "      <td>0.0</td>\n",
       "      <td>0.0</td>\n",
       "      <td>0.000000</td>\n",
       "      <td>0.0</td>\n",
       "    </tr>\n",
       "    <tr>\n",
       "      <th>ZFPL1</th>\n",
       "      <td>0.0</td>\n",
       "      <td>0.000000</td>\n",
       "      <td>0.0</td>\n",
       "      <td>0.0</td>\n",
       "      <td>0.0</td>\n",
       "      <td>0.000000</td>\n",
       "      <td>0.000000</td>\n",
       "      <td>0.0</td>\n",
       "      <td>0.0</td>\n",
       "      <td>0.000000</td>\n",
       "      <td>...</td>\n",
       "      <td>0.0</td>\n",
       "      <td>0.0</td>\n",
       "      <td>0.0</td>\n",
       "      <td>0.000000</td>\n",
       "      <td>0.0</td>\n",
       "      <td>0.000000</td>\n",
       "      <td>0.0</td>\n",
       "      <td>0.0</td>\n",
       "      <td>0.000000</td>\n",
       "      <td>0.0</td>\n",
       "    </tr>\n",
       "    <tr>\n",
       "      <th>ZNF330_target</th>\n",
       "      <td>0.0</td>\n",
       "      <td>0.000000</td>\n",
       "      <td>0.0</td>\n",
       "      <td>0.0</td>\n",
       "      <td>0.0</td>\n",
       "      <td>0.000000</td>\n",
       "      <td>0.381833</td>\n",
       "      <td>0.0</td>\n",
       "      <td>0.0</td>\n",
       "      <td>0.000000</td>\n",
       "      <td>...</td>\n",
       "      <td>0.0</td>\n",
       "      <td>0.0</td>\n",
       "      <td>0.0</td>\n",
       "      <td>0.210237</td>\n",
       "      <td>0.0</td>\n",
       "      <td>0.579048</td>\n",
       "      <td>0.0</td>\n",
       "      <td>0.0</td>\n",
       "      <td>0.000000</td>\n",
       "      <td>0.0</td>\n",
       "    </tr>\n",
       "    <tr>\n",
       "      <th>ZYX</th>\n",
       "      <td>0.0</td>\n",
       "      <td>1.000000</td>\n",
       "      <td>0.0</td>\n",
       "      <td>0.0</td>\n",
       "      <td>0.0</td>\n",
       "      <td>0.000000</td>\n",
       "      <td>0.000000</td>\n",
       "      <td>0.0</td>\n",
       "      <td>0.0</td>\n",
       "      <td>0.000000</td>\n",
       "      <td>...</td>\n",
       "      <td>0.0</td>\n",
       "      <td>0.0</td>\n",
       "      <td>0.0</td>\n",
       "      <td>0.000000</td>\n",
       "      <td>0.0</td>\n",
       "      <td>0.000000</td>\n",
       "      <td>0.0</td>\n",
       "      <td>0.0</td>\n",
       "      <td>0.000000</td>\n",
       "      <td>0.0</td>\n",
       "    </tr>\n",
       "  </tbody>\n",
       "</table>\n",
       "<p>192 rows × 4424 columns</p>\n",
       "</div>"
      ],
      "text/plain": [
       "PreyGene       AAAS      AAK1  AAR2  AARS2  AASDH      AASS      AATF  ABCA3  \\\n",
       "Bait                                                                           \n",
       "AARS2           0.0  0.000000   0.0    0.0    0.0  0.347015  0.000000    0.0   \n",
       "ACBD5           0.0  0.000000   0.0    0.0    0.0  0.000000  0.000000    0.0   \n",
       "ACTB            0.0  0.000000   0.0    0.0    0.0  0.000000  0.000000    0.0   \n",
       "ACTR1A          0.0  0.000000   0.0    0.0    0.0  0.000000  0.000000    0.0   \n",
       "ACTR2           0.0  0.000000   0.0    0.0    0.0  0.000000  0.000000    0.0   \n",
       "...             ...       ...   ...    ...    ...       ...       ...    ...   \n",
       "VCL             0.0  0.000000   0.0    0.0    0.0  0.000000  0.000000    0.0   \n",
       "VIM             0.0  0.123211   0.0    0.0    0.0  0.000000  0.000000    0.0   \n",
       "ZFPL1           0.0  0.000000   0.0    0.0    0.0  0.000000  0.000000    0.0   \n",
       "ZNF330_target   0.0  0.000000   0.0    0.0    0.0  0.000000  0.381833    0.0   \n",
       "ZYX             0.0  1.000000   0.0    0.0    0.0  0.000000  0.000000    0.0   \n",
       "\n",
       "PreyGene       ABCB1    ABCB10  ...  ZNF830  ZNF850  ZNF91    ZRANB2  ZSCAN18  \\\n",
       "Bait                            ...                                             \n",
       "AARS2            0.0  0.266667  ...     0.0     0.0    0.0  0.000000      0.0   \n",
       "ACBD5            0.0  0.000000  ...     0.0     0.0    0.0  0.000000      0.0   \n",
       "ACTB             0.0  0.000000  ...     0.0     0.0    0.0  0.000000      0.0   \n",
       "ACTR1A           0.0  0.000000  ...     0.0     0.0    0.0  0.000000      0.0   \n",
       "ACTR2            0.0  0.000000  ...     0.0     0.0    0.0  0.000000      0.0   \n",
       "...              ...       ...  ...     ...     ...    ...       ...      ...   \n",
       "VCL              0.0  0.000000  ...     0.0     0.0    0.0  0.000000      0.0   \n",
       "VIM              0.0  0.000000  ...     0.0     0.0    0.0  0.000000      0.0   \n",
       "ZFPL1            0.0  0.000000  ...     0.0     0.0    0.0  0.000000      0.0   \n",
       "ZNF330_target    0.0  0.000000  ...     0.0     0.0    0.0  0.210237      0.0   \n",
       "ZYX              0.0  0.000000  ...     0.0     0.0    0.0  0.000000      0.0   \n",
       "\n",
       "PreyGene        ZSCAN21  ZW10  ZWINT       ZYX  ZZZ3  \n",
       "Bait                                                  \n",
       "AARS2          0.000000   0.0    0.0  0.000000   0.0  \n",
       "ACBD5          0.000000   0.0    0.0  0.000000   0.0  \n",
       "ACTB           0.000000   0.0    0.0  0.384215   0.0  \n",
       "ACTR1A         0.000000   0.0    0.0  0.000000   0.0  \n",
       "ACTR2          0.000000   0.0    0.0  0.000000   0.0  \n",
       "...                 ...   ...    ...       ...   ...  \n",
       "VCL            0.000000   0.0    0.0  0.278706   0.0  \n",
       "VIM            0.000000   0.0    0.0  0.000000   0.0  \n",
       "ZFPL1          0.000000   0.0    0.0  0.000000   0.0  \n",
       "ZNF330_target  0.579048   0.0    0.0  0.000000   0.0  \n",
       "ZYX            0.000000   0.0    0.0  0.000000   0.0  \n",
       "\n",
       "[192 rows x 4424 columns]"
      ]
     },
     "execution_count": 7,
     "metadata": {},
     "output_type": "execute_result"
    }
   ],
   "source": [
    "df_norm"
   ]
  },
  {
   "cell_type": "markdown",
   "id": "69cd74f5",
   "metadata": {},
   "source": [
    "## Running the Genetic Algorithm\n",
    "\n",
    "In this step, we use the `run_ga` function to run a genetic algorithm (GA) for selecting an optimal subset of features (baits) from the BioID dataset. The GA evolves a population of possible solutions over multiple generations to find the best subset of baits.\n",
    "\n",
    "- **Function**: `run_ga`\n",
    "- **Parameters**:\n",
    "  - `df_norm`: The normalized BioID data (DataFrame).\n",
    "  - `n_components`: The number of NMF components used in the analysis.\n",
    "  - `subset_range`: The range of the number of selected baits (features).\n",
    "  - `population_size`: The number of individuals in the GA population. In this case, it's set to 500.\n",
    "  - `n_generations`: The number of generations for which the GA will run. In this case, it's set to 10.\n",
    "  - `cxpb`: Probability of crossover. Default is 0.3.\n",
    "  - `mutpb`: Probability of mutation. Default is 0.1.\n",
    "\n",
    "- **Returns**:\n",
    "  - `pop`: The final population of individuals after the GA has evolved over the specified generations.\n",
    "  - `logbook`: A logbook that contains statistical information about the evolution process, including metrics like the average fitness, minimum fitness, and maximum fitness for each generation.\n",
    "  - `hof`: The Hall of Fame, which contains the best individuals (i.e., subsets of baits) discovered during the GA run.\n",
    "\n",
    "\n"
   ]
  },
  {
   "cell_type": "code",
   "execution_count": null,
   "id": "3b5ac92c",
   "metadata": {},
   "outputs": [],
   "source": [
    "pop, logbook, hof = gb.run_ga(\n",
    "    df_norm=df_norm,\n",
    "    n_components=n_components,\n",
    "    subset_range=subset_range,\n",
    "    population_size=500,\n",
    "    n_generations=100\n",
    ")"
   ]
  },
  {
   "cell_type": "markdown",
   "id": "434049bd",
   "metadata": {},
   "source": [
    "## Saving GA results\n",
    "Here, we save the results of the GA using the `save_ga_results` function, which saves the population, logbook, and Hall of Fame to specified file paths.\n",
    "\n",
    "- **Parameters**:\n",
    "  - `population`: The final population after the GA run.\n",
    "  - `logbook`: The logbook tracking the evolution of the population.\n",
    "  - `hof`: Hall of Fame containing the best individuals found by the GA.\n",
    "  - `pop_file_path`, `logbook_file_path`, `hof_file_path`: Paths to save the files.\n",
    "\n",
    "\n",
    "\n"
   ]
  },
  {
   "cell_type": "code",
   "execution_count": null,
   "id": "685a97c3",
   "metadata": {},
   "outputs": [],
   "source": [
    "gb.save_ga_results(\n",
    "    population=pop,\n",
    "    logbook=logbook,\n",
    "    hof=hof,\n",
    "    pop_file_path=f\"{output_directory}/popfile.pkl\",\n",
    "    logbook_file_path=f\"{output_directory}/logbookfile.pkl\",\n",
    "    hof_file_path=f\"{output_directory}/hoffile.pkl\"\n",
    ")"
   ]
  },
  {
   "cell_type": "markdown",
   "id": "feff2e44",
   "metadata": {},
   "source": [
    "## Loading GA results\n",
    "Here we can load previously saved population and logbook from their respective file paths"
   ]
  },
  {
   "cell_type": "code",
   "execution_count": 8,
   "id": "f8f79ab6",
   "metadata": {},
   "outputs": [],
   "source": [
    "population, logbook, hof = gb.load_ga_results(\n",
    "    pop_file_path=f\"{output_directory}/popfile.pkl\",\n",
    "    logbook_file_path=f\"{output_directory}/logbookfile.pkl\",\n",
    "    hof_file_path=f\"{output_directory}/hoffile.pkl\"\n",
    ")"
   ]
  },
  {
   "cell_type": "markdown",
   "id": "647aea0a",
   "metadata": {},
   "source": [
    "## Calculating GA result\n",
    "\n",
    "In this step, we use the `calculate_ga_results` function to retrieve the best subset of baits selected by the genetic algorithm and calculate the NMF correlation between the original and selected subset. This function returns the selected baits and their corresponding NMF correlation values.\n",
    "\n",
    "- **Function**: `calculate_ga_results`\n",
    "- **Parameters**:\n",
    "  - `hof`: The Hall of Fame from the genetic algorithm, which contains the best individuals (subsets of baits).\n",
    "  - `df_norm`: The normalized BioID data (DataFrame).\n",
    "  - `n_components`: The number of NMF components used in the analysis.\n",
    "  \n",
    "- **Returns**:\n",
    "  - `selected_baits`: The list of baits selected by the genetic algorithm as the optimal subset.\n",
    "  - `mean_nmf_correlation`: The mean correlation between the NMF basis matrix of the original dataset and the subset dataset.\n",
    "  - `min_nmf_correlation`: The min correlation between the NMF basis matrix of the original dataset and the subset dataset.\n",
    "  - `all_nmf_correaltions`: A list of correlation values for each NMF component.\n",
    "\n",
    "\n"
   ]
  },
  {
   "cell_type": "code",
   "execution_count": 9,
   "id": "d15e354c",
   "metadata": {},
   "outputs": [],
   "source": [
    "selected_baits, mean_nmf_correlation, min_nmf_correlation, all_nmf_correaltions = gb.calculate_ga_results(hof, df_norm, n_components)"
   ]
  },
  {
   "cell_type": "code",
   "execution_count": 10,
   "id": "cea6c9a1-cfb2-4c9f-981b-ae806e841d38",
   "metadata": {},
   "outputs": [
    {
     "data": {
      "text/plain": [
       "['ACBD5',\n",
       " 'ACTR3',\n",
       " 'AIFM1',\n",
       " 'AKAP1_target',\n",
       " 'ANAPC2',\n",
       " 'ARF6',\n",
       " 'CBX3',\n",
       " 'CENPA',\n",
       " 'CKAP4',\n",
       " 'COIL',\n",
       " 'CS',\n",
       " 'CYP2C1_sigseq',\n",
       " 'DCTN1',\n",
       " 'DDX23',\n",
       " 'DHX8',\n",
       " 'EMD',\n",
       " 'FLOT1',\n",
       " 'HIST1H2BG',\n",
       " 'HSD17B11',\n",
       " 'KRAS_target',\n",
       " 'KRT19',\n",
       " 'LAMP1',\n",
       " 'LAMP2',\n",
       " 'LAMTOR1_target_peptide',\n",
       " 'LRRC59_Nterm',\n",
       " 'LYN',\n",
       " 'MAPRE3',\n",
       " 'NCBP3',\n",
       " 'NDC80',\n",
       " 'NOP56',\n",
       " 'OCLN',\n",
       " 'PCM1',\n",
       " 'PDHA1',\n",
       " 'PDIA4',\n",
       " 'PXMP2',\n",
       " 'RAB11A',\n",
       " 'RAB35',\n",
       " 'RAB4A',\n",
       " 'RPL31',\n",
       " 'RPN1',\n",
       " 'RPS20',\n",
       " 'RPS6',\n",
       " 'SEC61B_Cterm',\n",
       " 'SFXN1',\n",
       " 'STX7',\n",
       " 'SYNE3_Cterm',\n",
       " 'SYNE3_Nterm',\n",
       " 'TERF2IP',\n",
       " 'TRIM36_Nterm',\n",
       " 'ZFPL1']"
      ]
     },
     "execution_count": 10,
     "metadata": {},
     "output_type": "execute_result"
    }
   ],
   "source": [
    "selected_baits"
   ]
  },
  {
   "cell_type": "code",
   "execution_count": 11,
   "id": "67417d74",
   "metadata": {},
   "outputs": [
    {
     "data": {
      "text/plain": [
       "0.9628075922637978"
      ]
     },
     "execution_count": 11,
     "metadata": {},
     "output_type": "execute_result"
    }
   ],
   "source": [
    "mean_nmf_correlation"
   ]
  },
  {
   "cell_type": "code",
   "execution_count": 12,
   "metadata": {},
   "outputs": [
    {
     "data": {
      "text/plain": [
       "0.9025194439128281"
      ]
     },
     "execution_count": 12,
     "metadata": {},
     "output_type": "execute_result"
    }
   ],
   "source": [
    "min_nmf_correlation"
   ]
  },
  {
   "cell_type": "code",
   "execution_count": 13,
   "id": "b3ae8f28",
   "metadata": {},
   "outputs": [
    {
     "data": {
      "text/plain": [
       "array([0.90251944, 0.95496961, 0.97857123, 0.95774577, 0.97135343,\n",
       "       0.95147357, 0.96787425, 0.9518188 , 0.96214486, 0.93408249,\n",
       "       0.9544204 , 0.99657838, 0.99440013, 0.98931542, 0.95406028,\n",
       "       0.96171887, 0.98038172, 0.95886556, 0.93932722, 0.99453041])"
      ]
     },
     "execution_count": 13,
     "metadata": {},
     "output_type": "execute_result"
    }
   ],
   "source": [
    "all_nmf_correaltions"
   ]
  },
  {
   "cell_type": "markdown",
   "id": "2c652def",
   "metadata": {},
   "source": [
    "## Calculating NMF Cosine similarity\n",
    "\n",
    "In this step, we use the `calculate_nmf_cosine_similarity` function to compute the cosine similarity between the original and selected subset baits. This similarity gives insight into how well the selected baits represent the original data.\n",
    "\n",
    "- **Function**: `calculate_nmf_cosine_similarity`\n",
    "- **Parameters**:\n",
    "  - `df_norm`: The normalized BioID data (DataFrame).\n",
    "  - `selected_baits`: The subset of baits selected by the genetic algorithm.\n",
    "  - `n_components`: The number of NMF components used in the analysis.\n",
    "  \n",
    "- **Returns**:\n",
    "  - `mean_nmf_cos_similarity_score`: The mean cosine similarity score between the NMF components of the original dataset and the selected subset.\n",
    "  - `min_nmf_cos_similarity_score`: The min cosine similarity score between the NMF components of the original dataset and the selected subset.\n",
    "  - `all_nmf_cos_similarity_scores`: A list of cosine similarity scores for each NMF component, showing the similarity for individual components.\n",
    "\n"
   ]
  },
  {
   "cell_type": "code",
   "execution_count": 14,
   "id": "1f72eca0",
   "metadata": {},
   "outputs": [],
   "source": [
    "mean_nmf_cos_similarity_score, min_nmf_cos_similarity_score, all_nmf_cos_similarity_scores = gb.calculate_nmf_cosine_similarity(df_norm, selected_baits, n_components)"
   ]
  },
  {
   "cell_type": "code",
   "execution_count": 15,
   "id": "6eba10b1-9b69-443c-9c04-4950d82879c6",
   "metadata": {},
   "outputs": [
    {
     "data": {
      "text/plain": [
       "0.9647851800497926"
      ]
     },
     "execution_count": 15,
     "metadata": {},
     "output_type": "execute_result"
    }
   ],
   "source": [
    "mean_nmf_cos_similarity_score"
   ]
  },
  {
   "cell_type": "code",
   "execution_count": 16,
   "metadata": {},
   "outputs": [
    {
     "data": {
      "text/plain": [
       "0.9114302775417854"
      ]
     },
     "execution_count": 16,
     "metadata": {},
     "output_type": "execute_result"
    }
   ],
   "source": [
    "min_nmf_cos_similarity_score"
   ]
  },
  {
   "cell_type": "code",
   "execution_count": 17,
   "id": "4b6ebe28-5aaf-4a78-8995-6587f1f226b1",
   "metadata": {},
   "outputs": [
    {
     "data": {
      "text/plain": [
       "array([0.91143028, 0.95803041, 0.98029793, 0.96046514, 0.97242552,\n",
       "       0.95618445, 0.96943639, 0.9526346 , 0.962459  , 0.93820777,\n",
       "       0.95752685, 0.99673303, 0.99489931, 0.98997593, 0.95592155,\n",
       "       0.96211448, 0.98075699, 0.96157342, 0.93981945, 0.99481111])"
      ]
     },
     "execution_count": 17,
     "metadata": {},
     "output_type": "execute_result"
    }
   ],
   "source": [
    "all_nmf_cos_similarity_scores"
   ]
  },
  {
   "cell_type": "markdown",
   "id": "fe9b3f3c",
   "metadata": {},
   "source": [
    "## Calculating NMF KL divergence\n",
    "\n",
    "\n",
    "In this step, we use the `calculate_nmf_kl_divergence` function to compute the Kullback-Leibler (KL) divergence between the NMF components of the original data and the selected baits. KL divergence measures how one probability distribution diverges from a second, expected probability distribution. This is useful for understanding the differences between the original data and the subset selected by the genetic algorithm.\n",
    "\n",
    "- **Function**: `calculate_nmf_kl_divergence`\n",
    "- **Parameters**:\n",
    "  - `df_norm`: The normalized BioID data (DataFrame).\n",
    "  - `selected_baits`: The list of baits (features) selected by the GA.\n",
    "  - `n_components`: The number of NMF components used in the analysis.\n",
    "\n",
    "- **Returns**:\n",
    "  - `mean_nmf_kl_divergence_score`: The average KL divergence score across all NMF components.\n",
    "  - `max_nmf_kl_divergence_score`: The max KL divergence score across all NMF components.\n",
    "  - `all_nmf_kl_divergence_scores`: The individual KL divergence scores for each component.\n"
   ]
  },
  {
   "cell_type": "code",
   "execution_count": 18,
   "id": "6eaeaf5f",
   "metadata": {},
   "outputs": [],
   "source": [
    "mean_nmf_kl_divergence_score, max_nmf_kl_divergence_score, all_nmf_kl_divergence_scores = gb.calculate_nmf_kl_divergence(df_norm, selected_baits, n_components)"
   ]
  },
  {
   "cell_type": "code",
   "execution_count": 19,
   "id": "0264a34e-1937-471f-95f0-d6fe36181948",
   "metadata": {},
   "outputs": [
    {
     "data": {
      "text/plain": [
       "1.9866790073854574"
      ]
     },
     "execution_count": 19,
     "metadata": {},
     "output_type": "execute_result"
    }
   ],
   "source": [
    "mean_nmf_kl_divergence_score"
   ]
  },
  {
   "cell_type": "code",
   "execution_count": 20,
   "metadata": {},
   "outputs": [
    {
     "data": {
      "text/plain": [
       "4.277723462622161"
      ]
     },
     "execution_count": 20,
     "metadata": {},
     "output_type": "execute_result"
    }
   ],
   "source": [
    "max_nmf_kl_divergence_score"
   ]
  },
  {
   "cell_type": "code",
   "execution_count": 21,
   "id": "8649aa3e-7fba-496b-b373-9cea7200d1ab",
   "metadata": {},
   "outputs": [
    {
     "data": {
      "text/plain": [
       "array([2.6238254 , 1.67745437, 0.66506218, 0.90228065, 1.12757156,\n",
       "       1.44977502, 1.93827632, 3.78036364, 3.25671706, 2.52029273,\n",
       "       2.20218745, 0.52032607, 0.30324526, 0.67319525, 3.17328875,\n",
       "       3.82603123, 2.05850216, 1.90574664, 4.27772346, 0.85171493])"
      ]
     },
     "execution_count": 21,
     "metadata": {},
     "output_type": "execute_result"
    }
   ],
   "source": [
    "all_nmf_kl_divergence_scores"
   ]
  },
  {
   "cell_type": "markdown",
   "id": "61ac6e11",
   "metadata": {},
   "source": [
    "## Calculating NMF GO Jaccard Index\n",
    "\n",
    "In this step, we use the `calculate_nmf_go_jaccard` function to compute the Jaccard Index between the Gene Ontology (GO) Cellular Component (CC) terms associated with the original data and the selected baits. The Jaccard Index is used to measure the similarity between two sets, specifically the overlap between GO terms of the original and selected baits.\n",
    "\n",
    "- **Function**: `calculate_nmf_go_jaccard`\n",
    "- **Parameters**:\n",
    "  - `df_norm`: The normalized BioID data (DataFrame).\n",
    "  - `selected_baits`: The list of baits (features) selected by the genetic algorithm.\n",
    "  - `n_components`: The number of NMF components used in the analysis.\n",
    "\n",
    "- **Returns**:\n",
    "  - `mean_nmf_go_jaccard_index`: The mean Jaccard index score across all NMF components.\n",
    "  - `min_nmf_go_jaccard_index`: The min Jaccard index score across all NMF components.\n",
    "  - `all_nmf_go_jaccard_indices`: The individual Jaccard index scores for each component.\n",
    "\n"
   ]
  },
  {
   "cell_type": "code",
   "execution_count": 22,
   "id": "15343055",
   "metadata": {},
   "outputs": [],
   "source": [
    "mean_nmf_go_jaccard_index, min_nmf_go_jaccard_index, all_nmf_go_jaccard_indices = gb.calculate_nmf_go_jaccard(df_norm, selected_baits, n_components=n_components)\n"
   ]
  },
  {
   "cell_type": "code",
   "execution_count": 23,
   "id": "58bdc360-e623-4628-b572-066ee10539cf",
   "metadata": {},
   "outputs": [
    {
     "data": {
      "text/plain": [
       "0.7278483823159123"
      ]
     },
     "execution_count": 23,
     "metadata": {},
     "output_type": "execute_result"
    }
   ],
   "source": [
    "mean_nmf_go_jaccard_index"
   ]
  },
  {
   "cell_type": "code",
   "execution_count": 24,
   "metadata": {},
   "outputs": [
    {
     "data": {
      "text/plain": [
       "0.4074074074074074"
      ]
     },
     "execution_count": 24,
     "metadata": {},
     "output_type": "execute_result"
    }
   ],
   "source": [
    "min_nmf_go_jaccard_index"
   ]
  },
  {
   "cell_type": "code",
   "execution_count": 25,
   "id": "9fd9f1bd-8708-4cbf-88dc-9ca79143ca6d",
   "metadata": {},
   "outputs": [
    {
     "data": {
      "text/plain": [
       "{6: 0.8297872340425532,\n",
       " 4: 0.9558823529411765,\n",
       " 2: 0.8529411764705882,\n",
       " 9: 0.7209302325581395,\n",
       " 5: 0.7586206896551724,\n",
       " 0: 0.436046511627907,\n",
       " 8: 0.7205882352941176,\n",
       " 3: 0.9642857142857143,\n",
       " 7: 0.4074074074074074,\n",
       " 1: 0.6111111111111112,\n",
       " 12: 0.7727272727272727,\n",
       " 10: 0.5535714285714286,\n",
       " 11: 0.6461538461538462,\n",
       " 15: 0.7023809523809523,\n",
       " 13: 0.8153846153846154,\n",
       " 17: 0.6439393939393939,\n",
       " 16: 0.8,\n",
       " 19: 0.75,\n",
       " 14: 0.7540983606557377,\n",
       " 18: 0.8611111111111112}"
      ]
     },
     "execution_count": 25,
     "metadata": {},
     "output_type": "execute_result"
    }
   ],
   "source": [
    "all_nmf_go_jaccard_indices"
   ]
  },
  {
   "cell_type": "markdown",
   "id": "1b92304b",
   "metadata": {},
   "source": [
    "## Calculating NMF ARI (Adjusted Rand Index)\n",
    "\n",
    "In this step, we use the `calculate_nmf_ari` function to compute the Adjusted Rand Index (ARI) between the clustering of the original data and the selected baits. ARI measures the similarity of the clustering assignments between two different sets, where a higher ARI indicates better alignment between the clusters.\n",
    "\n",
    "- **Function**: `calculate_nmf_ari`\n",
    "- **Parameters**:\n",
    "  - `df_norm`: The normalized BioID data (DataFrame).\n",
    "  - `selected_baits`: The list of baits (features) selected by the genetic algorithm.\n",
    "  - `n_components`: The number of NMF components used in the analysis.\n",
    "\n",
    "- **Returns**:\n",
    "  - `nmf_ari_score`: The ARI score indicating how well the selected baits' clustering matches the clustering of the original data.\n",
    "\n"
   ]
  },
  {
   "cell_type": "code",
   "execution_count": 26,
   "id": "41b5c40d",
   "metadata": {},
   "outputs": [],
   "source": [
    "nmf_ari_score = gb.calculate_nmf_ari(df_norm, selected_baits, n_components)"
   ]
  },
  {
   "cell_type": "code",
   "execution_count": 27,
   "id": "db751505-34a9-4aea-9437-ce1d10e65903",
   "metadata": {},
   "outputs": [
    {
     "data": {
      "text/plain": [
       "0.707807499705288"
      ]
     },
     "execution_count": 27,
     "metadata": {},
     "output_type": "execute_result"
    }
   ],
   "source": [
    "nmf_ari_score"
   ]
  },
  {
   "cell_type": "markdown",
   "metadata": {},
   "source": [
    "## Calculating min NMF purity score\n",
    "\n",
    "In this step, we use the `calculate_min_nmf_purity` function to evaluate how well the NMF components derived from a subset of selected baits preserve the original structure of the full dataset. This is done by measuring, for each NMF component, the fraction of preys that are consistently assigned to the same component in both the full and subset data. The minimum of these preservation values across components is returned as a conservative indicator of component stability.\n",
    "\n",
    "- **Function**: `calculate_min_nmf_purity`\n",
    "- **Parameters**:\n",
    "  - `df_norm`: The normalized BioID data (DataFrame).\n",
    "  - `selected_baits`: The list of baits (features) selected by the genetic algorithm.\n",
    "  - `n_components`: The number of NMF components used in the analysis.\n",
    "\n",
    "- **Returns**:\n",
    "  - `min_purity`: The ARI score indicating how well the selected baits' clustering matches the clustering of the original data."
   ]
  },
  {
   "cell_type": "code",
   "execution_count": 28,
   "metadata": {},
   "outputs": [],
   "source": [
    "min_nmf_purity_score = gb.calculate_min_nmf_purity(df_norm, selected_baits, n_components)"
   ]
  },
  {
   "cell_type": "code",
   "execution_count": 29,
   "metadata": {},
   "outputs": [
    {
     "data": {
      "text/plain": [
       "0.32235294117647056"
      ]
     },
     "execution_count": 29,
     "metadata": {},
     "output_type": "execute_result"
    }
   ],
   "source": [
    "min_nmf_purity_score"
   ]
  },
  {
   "cell_type": "markdown",
   "id": "5d804709",
   "metadata": {},
   "source": [
    "## Calculating Remaining Preys Percentage and Count\n",
    "\n",
    "In this step, we use the `calculate_remaining_preys_percentage` function to compute the percentage and count of preys (proteins) that remain in the selected subset of data after applying the genetic algorithm. This helps assess the coverage of preys in the selected baits.\n",
    "\n",
    "- **Function**: `calculate_remaining_preys_percentage`\n",
    "- **Parameters**:\n",
    "  - `df_norm`: The normalized BioID data (DataFrame).\n",
    "  - `selected_baits`: The list of baits (features) selected by the genetic algorithm.\n",
    "  - `n_components`: The number of NMF components used in the analysis.\n",
    "\n",
    "- **Returns**:\n",
    "  - `remaining_preys_percentage`: The percentage of preys that remain in the selected baits.\n",
    "  - `remaining_preys_count`: The total number of preys remaining in the selected subset.\n",
    "\n"
   ]
  },
  {
   "cell_type": "code",
   "execution_count": 30,
   "id": "e815593a",
   "metadata": {},
   "outputs": [],
   "source": [
    "remaining_preys_percentage, remaining_preys_count = gb.calculate_remaining_preys_percentage(df_norm, selected_baits, n_components)"
   ]
  },
  {
   "cell_type": "code",
   "execution_count": 31,
   "id": "32ced1d4-cc49-4596-a6ef-ad985fe998c0",
   "metadata": {},
   "outputs": [
    {
     "data": {
      "text/plain": [
       "0.7990506329113924"
      ]
     },
     "execution_count": 31,
     "metadata": {},
     "output_type": "execute_result"
    }
   ],
   "source": [
    "remaining_preys_percentage"
   ]
  },
  {
   "cell_type": "code",
   "execution_count": 32,
   "id": "8ca06e86-3410-4c7b-abb8-8c3652f5c7a7",
   "metadata": {},
   "outputs": [
    {
     "data": {
      "text/plain": [
       "3535"
      ]
     },
     "execution_count": 32,
     "metadata": {},
     "output_type": "execute_result"
    }
   ],
   "source": [
    "remaining_preys_count"
   ]
  },
  {
   "cell_type": "markdown",
   "id": "751a39d2",
   "metadata": {},
   "source": [
    "## Calculating GO Retrieval Percentage\n",
    "\n",
    "In this step, we use the `calculate_go_retrieval_percentage` function to calculate the Gene Ontology (GO) retrieval percentage for the selected baits. GO retrieval assesses the functional enrichment of the selected baits by evaluating how many of the preys are associated with known GO terms (specifically Cellular Component, or GO:CC) based on the provided GAF (Gene Annotation Format) file.\n",
    "\n",
    "- **Function**: `calculate_go_retrieval_percentage`\n",
    "- **Parameters**:\n",
    "  - `df_norm`: The normalized BioID data (DataFrame).\n",
    "  - `selected_baits`: The list of baits (features) selected by the genetic algorithm.\n",
    "  - `gaf_path`: The file path to the GAF file, which contains GO annotations for various genes/proteins.\n",
    "\n",
    "- **Returns**:\n",
    "  - `go_retrieval_percentage`: The percentage of preys in the selected baits that are associated with known GO:CC terms.\n",
    "\n"
   ]
  },
  {
   "cell_type": "code",
   "execution_count": 33,
   "id": "7bb0e4f7",
   "metadata": {},
   "outputs": [],
   "source": [
    "go_retrieval_percentage = gb.calculate_go_retrieval_percentage(df_norm, selected_baits, gaf_path=f'{input_directory}goa_human.gaf')"
   ]
  },
  {
   "cell_type": "code",
   "execution_count": 34,
   "id": "8453bb69-a227-4539-9b42-1464ad1f8985",
   "metadata": {},
   "outputs": [
    {
     "data": {
      "text/plain": [
       "94.70046082949308"
      ]
     },
     "execution_count": 34,
     "metadata": {},
     "output_type": "execute_result"
    }
   ],
   "source": [
    "go_retrieval_percentage"
   ]
  },
  {
   "cell_type": "markdown",
   "id": "4fa9524a",
   "metadata": {},
   "source": [
    "## Calculating Leiden ARI (Adjusted Rand Index)\n",
    "\n",
    "In this step, we use the `calculate_leiden_ari` function to calculate the Adjusted Rand Index (ARI) for clustering the selected baits using the Leiden algorithm. The Leiden algorithm is a community detection algorithm commonly used for graph-based clustering. By calculating the ARI, we can compare how well the clustering from the selected baits corresponds to the clustering of the entire dataset across different resolutions. ARI measures the similarity between two clusterings, comparing the clustering of the full dataset with the clustering of the selected subset of baits.\n",
    "\n",
    "- **Function**: `calculate_leiden_ari`\n",
    "- **Parameters**:\n",
    "  - `df_norm`: The normalized BioID data (DataFrame).\n",
    "  - `selected_baits`: The list of baits (features) selected by the genetic algorithm.\n",
    "  - `resolutions`: List of resolutions for the Leiden clustering algorithm. Higher resolutions lead to more clusters.\n",
    "  - `seed`: (Optional) Random seed for reproducibility (default is 4).\n",
    "\n",
    "- **Returns**:\n",
    "  - `leiden_results`: A dictionary where the keys are resolution values, and the values are the ARI scores between the clustering of the original data and the selected baits.\n",
    "\n"
   ]
  },
  {
   "cell_type": "code",
   "execution_count": 35,
   "id": "eb7bf4bd",
   "metadata": {},
   "outputs": [],
   "source": [
    "leiden_results = gb.calculate_leiden_ari(df_norm, selected_baits, resolutions=[0.5, 1.0, 1.5])"
   ]
  },
  {
   "cell_type": "code",
   "execution_count": 36,
   "id": "59b2813d-4d3d-4696-9a75-fa1aba4a461b",
   "metadata": {},
   "outputs": [
    {
     "name": "stdout",
     "output_type": "stream",
     "text": [
      "Resolution: 0.5, ARI: 0.6153919222091556\n",
      "Resolution: 1.0, ARI: 0.6239641760362682\n",
      "Resolution: 1.5, ARI: 0.6047543804319405\n"
     ]
    }
   ],
   "source": [
    "for resolution, ari in leiden_results.items():\n",
    "    print(f\"Resolution: {resolution}, ARI: {ari}\")"
   ]
  },
  {
   "cell_type": "markdown",
   "id": "9177bf8e",
   "metadata": {},
   "source": [
    "## Calculating GMM ARI (Adjusted Rand Index)\n",
    "\n",
    "In this step, we use the `calculate_gmm_ari` function to calculate the Adjusted Rand Index (ARI) for Gaussian Mixture Model (GMM) clustering of the selected baits. The Gaussian Mixture Model (GMM) is used to cluster the data into a specified number of clusters. The ARI score measures the similarity between the clustering of the full dataset and the selected baits subset.\n",
    "\n",
    "- **Function**: `calculate_gmm_ari`\n",
    "- **Parameters**:\n",
    "  - `df_norm`: The normalized BioID data (DataFrame).\n",
    "  - `selected_baits`: The list of baits (features) selected by the genetic algorithm.\n",
    "  - `cluster_numbers`: List of cluster numbers to fit the Gaussian Mixture Model (GMM). Each number represents how many clusters are formed.\n",
    "  - `seed`: (Optional) Random seed for reproducibility (default is 4).\n",
    "\n",
    "- **Returns**:\n",
    "  - `gmm_results`: A dictionary where the keys are cluster numbers, and the values are the ARI scores comparing the clustering of the full dataset and the selected baits subset for each cluster number.\n"
   ]
  },
  {
   "cell_type": "code",
   "execution_count": 37,
   "id": "be504268",
   "metadata": {},
   "outputs": [],
   "source": [
    "gmm_results = gb.calculate_gmm_ari(df_norm, selected_baits, cluster_numbers=[15, 20, 25, 30])"
   ]
  },
  {
   "cell_type": "code",
   "execution_count": 38,
   "id": "0ccb2caa-8b03-48ab-8eae-0438e3ea612b",
   "metadata": {},
   "outputs": [
    {
     "name": "stdout",
     "output_type": "stream",
     "text": [
      "Cluster Number: 15, ARI: 0.3513392100332473\n",
      "Cluster Number: 20, ARI: 0.4330585428372074\n",
      "Cluster Number: 25, ARI: 0.4792579710872932\n",
      "Cluster Number: 30, ARI: 0.3882589070019658\n"
     ]
    }
   ],
   "source": [
    "for cluster_number, ari in gmm_results.items():\n",
    "    print(f\"Cluster Number: {cluster_number}, ARI: {ari}\")"
   ]
  },
  {
   "cell_type": "markdown",
   "id": "d30fadcd",
   "metadata": {},
   "source": [
    "## Calculating GMM Mean Correlation\n",
    "\n",
    "In this step, we use the `calculate_gmm_mean_correlation` function to compute the mean correlation values between the Gaussian Mixture Model (GMM) clustering of the full dataset and the selected baits subset. Gaussian Mixture Model (GMM) soft clustering is performed on both the full dataset and the selected baits subset for each specified cluster number. The function computes the mean correlation between the probability distributions of the original and subset clusters, indicating how well the selected baits maintain the clustering structure of the full dataset.\n",
    "\n",
    "- **Function**: `calculate_gmm_mean_correlation`\n",
    "- **Parameters**:\n",
    "  - `df_norm`: The normalized BioID data (DataFrame).\n",
    "  - `selected_baits`: The list of baits (features) selected by the genetic algorithm.\n",
    "  - `cluster_numbers`: List of cluster numbers to fit the Gaussian Mixture Model (GMM). Each number represents how many clusters are formed.\n",
    "  - `seed`: (Optional) Random seed for reproducibility (default is 4).\n",
    "\n",
    "- **Returns**:\n",
    "  - `gmm_corr_results`: A dictionary where the keys are cluster numbers and the values are the mean correlation values between the soft clustering of the full dataset and the selected baits subset for each cluster number.\n",
    "\n",
    "\n",
    "  \n"
   ]
  },
  {
   "cell_type": "code",
   "execution_count": 39,
   "id": "d52e86d6",
   "metadata": {},
   "outputs": [],
   "source": [
    "gmm_corr_results = gb.calculate_gmm_mean_correlation(df_norm, selected_baits, cluster_numbers=[15, 20, 25, 30])"
   ]
  },
  {
   "cell_type": "code",
   "execution_count": 40,
   "id": "40ed3967-f726-4a08-a31e-7cac61385b16",
   "metadata": {},
   "outputs": [
    {
     "name": "stdout",
     "output_type": "stream",
     "text": [
      "Cluster Number: 15, Mean Correlation: 0.3461583652175666\n",
      "Cluster Number: 20, Mean Correlation: 0.3670970901887084\n",
      "Cluster Number: 25, Mean Correlation: 0.39059547502128106\n",
      "Cluster Number: 30, Mean Correlation: 0.339023289173151\n"
     ]
    }
   ],
   "source": [
    "for cluster_number, mean_corr in gmm_corr_results.items():\n",
    "    print(f\"Cluster Number: {cluster_number}, Mean Correlation: {mean_corr}\")"
   ]
  },
  {
   "cell_type": "markdown",
   "id": "aa31bf23-c9f2-4cf7-b0b9-855d80b7e3be",
   "metadata": {},
   "source": [
    "## Other methods example\n",
    "\n",
    "In this step, we use the `run_lasso` and `run_nn` functions for bait selection using Lasso and Neural network, repectively.\n",
    "- **Functions**: `run_lasso`, `run_nn`\n",
    "- **Parameters**:\n",
    "  - `df_norm`: The normalized BioID data (DataFrame).\n",
    "  - `k`: Number of desired baits.\n",
    "  - `seed`: (Optional) Random seed for reproducibility (default is 4).\n",
    "  \n",
    "  \n",
    "- **Returns**:\n",
    "  - `baits`: List of selected bait names (row indices from df_norm).\n"
   ]
  },
  {
   "cell_type": "code",
   "execution_count": 41,
   "metadata": {},
   "outputs": [],
   "source": [
    "lasso_baits = gb.run_lasso(df_norm, 50)"
   ]
  },
  {
   "cell_type": "code",
   "execution_count": 44,
   "metadata": {},
   "outputs": [
    {
     "data": {
      "text/plain": [
       "['SYNE3_Nterm',\n",
       " 'COIL',\n",
       " 'TERF2IP',\n",
       " 'AKAP1_target',\n",
       " 'RAB11A',\n",
       " 'PCM1',\n",
       " 'RPS20',\n",
       " 'CYP2C1_sigseq',\n",
       " 'SFXN1',\n",
       " 'DDX23',\n",
       " 'HIST1H2BG',\n",
       " 'DCTN1',\n",
       " 'DHX8',\n",
       " 'FBL',\n",
       " 'SV40_NLS',\n",
       " 'MAPRE3',\n",
       " 'NDC80',\n",
       " 'SEC61B_Cterm',\n",
       " 'CBX3',\n",
       " 'PDHA1',\n",
       " 'LAMTOR1_target_peptide',\n",
       " 'RPL31',\n",
       " 'B3GAT1',\n",
       " 'LAMP2',\n",
       " 'ACTB',\n",
       " 'CD3EAP',\n",
       " 'ASF1A',\n",
       " 'AIFM1',\n",
       " 'COX4I1',\n",
       " 'METTL7A',\n",
       " 'HNRNPA1',\n",
       " 'LRRC59_Cterm',\n",
       " 'COX8A_target',\n",
       " 'LAMP1',\n",
       " 'RPS24',\n",
       " 'RPS6',\n",
       " 'ANAPC2',\n",
       " 'NIFK',\n",
       " 'LAMTOR1',\n",
       " 'KRAS_target',\n",
       " 'PEX3',\n",
       " 'CENPA',\n",
       " 'GOLGA2',\n",
       " 'PARP1',\n",
       " 'EBAG9',\n",
       " 'SEC61B_Nterm',\n",
       " 'AKAP1',\n",
       " 'RPN1',\n",
       " 'MAPRE1',\n",
       " 'KRAS_Q61H']"
      ]
     },
     "execution_count": 44,
     "metadata": {},
     "output_type": "execute_result"
    }
   ],
   "source": [
    "lasso_baits"
   ]
  },
  {
   "cell_type": "code",
   "execution_count": 45,
   "metadata": {},
   "outputs": [
    {
     "name": "stderr",
     "output_type": "stream",
     "text": [
      "GPU available: True (mps), used: True\n",
      "TPU available: False, using: 0 TPU cores\n",
      "HPU available: False, using: 0 HPUs\n",
      "\n",
      "  | Name | Type   | Params | Mode \n",
      "----------------------------------------\n",
      "0 | fc1  | Linear | 12.4 K | train\n",
      "1 | relu | ReLU   | 0      | train\n",
      "2 | fc2  | Linear | 1.3 K  | train\n",
      "----------------------------------------\n",
      "13.7 K    Trainable params\n",
      "0         Non-trainable params\n",
      "13.7 K    Total params\n",
      "0.055     Total estimated model params size (MB)\n",
      "3         Modules in train mode\n",
      "0         Modules in eval mode\n"
     ]
    },
    {
     "data": {
      "application/vnd.jupyter.widget-view+json": {
       "model_id": "2dd8af27c9ae4bb48c0c232e173a8865",
       "version_major": 2,
       "version_minor": 0
      },
      "text/plain": [
       "Training: |          | 0/? [00:00<?, ?it/s]"
      ]
     },
     "metadata": {},
     "output_type": "display_data"
    },
    {
     "name": "stderr",
     "output_type": "stream",
     "text": [
      "`Trainer.fit` stopped: `max_epochs=10` reached.\n",
      "PermutationExplainer explainer: 3540it [00:42, 65.93it/s]                          \n"
     ]
    }
   ],
   "source": [
    "nn_baits = gb.run_nn(df_norm, 50)"
   ]
  },
  {
   "cell_type": "code",
   "execution_count": 46,
   "metadata": {},
   "outputs": [
    {
     "data": {
      "text/plain": [
       "['CYP2C1_sigseq',\n",
       " 'COIL',\n",
       " 'TERF2IP',\n",
       " 'PDHA1',\n",
       " 'SYNE3_Nterm',\n",
       " 'RAB11A',\n",
       " 'COX8A_target',\n",
       " 'RHOB',\n",
       " 'LAMTOR1_target_peptide',\n",
       " 'KRAS_Q61H',\n",
       " 'KRAS_target',\n",
       " 'AARS2',\n",
       " 'HIST1H2BG',\n",
       " 'CS',\n",
       " 'AKAP1_target',\n",
       " 'DDX23',\n",
       " 'SV40_NLS',\n",
       " 'CD3EAP',\n",
       " 'LAMP2',\n",
       " 'PARP1',\n",
       " 'CBX3',\n",
       " 'LAMTOR1',\n",
       " 'STX7',\n",
       " 'RAB9A',\n",
       " 'LRRC59_Cterm',\n",
       " 'SEC61B_Cterm',\n",
       " 'METTL7A',\n",
       " 'ZNF330_target',\n",
       " 'RPL31',\n",
       " 'GJD3',\n",
       " 'TRAP1',\n",
       " 'RPN1',\n",
       " 'CEP135',\n",
       " 'PCM1',\n",
       " 'RAB35',\n",
       " 'LYN',\n",
       " 'RAB5A',\n",
       " 'ASF1A',\n",
       " 'ATP2A1',\n",
       " 'ARF6',\n",
       " 'LAMP3',\n",
       " 'EBAG9',\n",
       " 'C11orf52',\n",
       " 'ACTB',\n",
       " 'SEC61B_Nterm',\n",
       " 'RAB4A',\n",
       " 'B3GAT1',\n",
       " 'LAMP1',\n",
       " 'ELOVL5',\n",
       " 'CENPA']"
      ]
     },
     "execution_count": 46,
     "metadata": {},
     "output_type": "execute_result"
    }
   ],
   "source": [
    "nn_baits"
   ]
  },
  {
   "cell_type": "code",
   "execution_count": null,
   "metadata": {},
   "outputs": [],
   "source": []
  }
 ],
 "metadata": {
  "kernelspec": {
   "display_name": "Python 3 (ipykernel)",
   "language": "python",
   "name": "python3"
  },
  "language_info": {
   "codemirror_mode": {
    "name": "ipython",
    "version": 3
   },
   "file_extension": ".py",
   "mimetype": "text/x-python",
   "name": "python",
   "nbconvert_exporter": "python",
   "pygments_lexer": "ipython3",
   "version": "3.12.4"
  }
 },
 "nbformat": 4,
 "nbformat_minor": 5
}
